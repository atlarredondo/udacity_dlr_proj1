{
 "cells": [
  {
   "cell_type": "markdown",
   "metadata": {},
   "source": [
    "# Navigation\n",
    "\n",
    "---\n",
    "\n",
    "You are welcome to use this coding environment to train your agent for the project.  Follow the instructions below to get started!\n",
    "\n",
    "### 1. Start the Environment\n",
    "\n",
    "Run the next code cell to install a few packages.  This line will take a few minutes to run!"
   ]
  },
  {
   "cell_type": "code",
   "execution_count": 1,
   "metadata": {},
   "outputs": [
    {
     "name": "stdout",
     "output_type": "stream",
     "text": [
      "\u001b[33m  DEPRECATION: A future pip version will change local packages to be built in-place without first copying to a temporary directory. We recommend you use --use-feature=in-tree-build to test your packages with this new behavior before it becomes the default.\n",
      "   pip 21.3 will remove support for this functionality. You can find discussion regarding this at https://github.com/pypa/pip/issues/7555.\u001b[0m\n",
      "\u001b[31mERROR: Could not find a version that satisfies the requirement tensorflow==1.7.1 (from unityagents) (from versions: none)\u001b[0m\n",
      "\u001b[31mERROR: No matching distribution found for tensorflow==1.7.1\u001b[0m\n",
      "\u001b[33mWARNING: You are using pip version 21.2.4; however, version 23.0.1 is available.\n",
      "You should consider upgrading via the '/Users/atl/h/node/env-16.17.0/bin/python3 -m pip install --upgrade pip' command.\u001b[0m\n"
     ]
    }
   ],
   "source": [
    "!pip -q install ./python"
   ]
  },
  {
   "cell_type": "markdown",
   "metadata": {},
   "source": [
    "The environment is already saved in the Workspace and can be accessed at the file path provided below.  Please run the next code cell without making any changes."
   ]
  },
  {
   "cell_type": "code",
   "execution_count": 2,
   "metadata": {},
   "outputs": [
    {
     "name": "stderr",
     "output_type": "stream",
     "text": [
      "INFO:unityagents:\n",
      "'Academy' started successfully!\n",
      "Unity Academy name: Academy\n",
      "        Number of Brains: 1\n",
      "        Number of External Brains : 1\n",
      "        Lesson number : 0\n",
      "        Reset Parameters :\n",
      "\t\t\n",
      "Unity brain name: BananaBrain\n",
      "        Number of Visual Observations (per agent): 0\n",
      "        Vector Observation space type: continuous\n",
      "        Vector Observation space size (per agent): 37\n",
      "        Number of stacked Vector Observation: 1\n",
      "        Vector Action space type: discrete\n",
      "        Vector Action space size (per agent): 4\n",
      "        Vector Action descriptions: , , , \n"
     ]
    }
   ],
   "source": [
    "from unityagents import UnityEnvironment\n",
    "import numpy as np\n",
    "import torch\n",
    "\n",
    "# please do not modify the line below\n",
    "env = UnityEnvironment(file_name=\"/data/Banana_Linux_NoVis/Banana.x86_64\")"
   ]
  },
  {
   "cell_type": "markdown",
   "metadata": {},
   "source": [
    "Environments contain **_brains_** which are responsible for deciding the actions of their associated agents. Here we check for the first brain available, and set it as the default brain we will be controlling from Python."
   ]
  },
  {
   "cell_type": "code",
   "execution_count": 3,
   "metadata": {},
   "outputs": [],
   "source": [
    "# get the default brain\n",
    "brain_name = env.brain_names[0]\n",
    "brain = env.brains[brain_name]"
   ]
  },
  {
   "cell_type": "markdown",
   "metadata": {},
   "source": [
    "### 2. Examine the State and Action Spaces\n",
    "\n",
    "Run the code cell below to print some information about the environment."
   ]
  },
  {
   "cell_type": "code",
   "execution_count": 4,
   "metadata": {},
   "outputs": [
    {
     "name": "stdout",
     "output_type": "stream",
     "text": [
      "Number of agents: 1\n",
      "Number of actions: 4\n",
      "States look like: [ 1.          0.          0.          0.          0.84408134  0.          0.\n",
      "  1.          0.          0.0748472   0.          1.          0.          0.\n",
      "  0.25755     1.          0.          0.          0.          0.74177343\n",
      "  0.          1.          0.          0.          0.25854847  0.          0.\n",
      "  1.          0.          0.09355672  0.          1.          0.          0.\n",
      "  0.31969345  0.          0.        ]\n",
      "States have length: 37\n"
     ]
    }
   ],
   "source": [
    "# reset the environment\n",
    "env_info = env.reset(train_mode=True)[brain_name]\n",
    "\n",
    "# number of agents in the environment\n",
    "print('Number of agents:', len(env_info.agents))\n",
    "\n",
    "# number of actions\n",
    "action_size = brain.vector_action_space_size\n",
    "print('Number of actions:', action_size)\n",
    "\n",
    "# examine the state space \n",
    "state = env_info.vector_observations[0]\n",
    "print('States look like:', state)\n",
    "state_size = len(state)\n",
    "print('States have length:', state_size)"
   ]
  },
  {
   "cell_type": "markdown",
   "metadata": {},
   "source": [
    "### 3. Take Random Actions in the Environment\n",
    "\n",
    "In the next code cell, you will learn how to use the Python API to control the agent and receive feedback from the environment.\n",
    "\n",
    "Note that **in this coding environment, you will not be able to watch the agent while it is training**, and you should set `train_mode=True` to restart the environment."
   ]
  },
  {
   "cell_type": "code",
   "execution_count": 6,
   "metadata": {},
   "outputs": [
    {
     "name": "stdout",
     "output_type": "stream",
     "text": [
      "Score: 0.0\n"
     ]
    }
   ],
   "source": [
    "env_info = env.reset(train_mode=True)[brain_name] # reset the environment\n",
    "state = env_info.vector_observations[0]            # get the current state\n",
    "score = 0                                          # initialize the score\n",
    "while True:\n",
    "    # Need to replace this with an agent action\n",
    "    action_n = np.random.randint(action_size)  # select an action\n",
    "    action = agent.act(state)\n",
    "    env_info = env.step(action)[brain_name]        # send the action to the environment\n",
    "    next_state = env_info.vector_observations[0]   # get the next state\n",
    "    reward = env_info.rewards[0]                   # get the reward\n",
    "    done = env_info.local_done[0]                  # see if episode has finished\n",
    "    score += reward                                # update the score\n",
    "    state = next_state                             # roll over the state to next time step\n",
    "    if done:                                       # exit loop if episode finished\n",
    "        break\n",
    "    \n",
    "print(\"Score: {}\".format(score))"
   ]
  },
  {
   "cell_type": "markdown",
   "metadata": {},
   "source": [
    "When finished, you can close the environment."
   ]
  },
  {
   "cell_type": "code",
   "execution_count": 7,
   "metadata": {},
   "outputs": [],
   "source": [
    "env.close()"
   ]
  },
  {
   "cell_type": "markdown",
   "metadata": {},
   "source": [
    "### 4. It's Your Turn!\n",
    "\n",
    "Now it's your turn to train your own agent to solve the environment!  A few **important notes**:\n",
    "- When training the environment, set `train_mode=True`, so that the line for resetting the environment looks like the following:\n",
    "```python\n",
    "env_info = env.reset(train_mode=True)[brain_name]\n",
    "```\n",
    "- To structure your work, you're welcome to work directly in this Jupyter notebook, or you might like to start over with a new file!  You can see the list of files in the workspace by clicking on **_Jupyter_** in the top left corner of the notebook.\n",
    "- In this coding environment, you will not be able to watch the agent while it is training.  However, **_after training the agent_**, you can download the saved model weights to watch the agent on your own machine! "
   ]
  },
  {
   "cell_type": "code",
   "execution_count": 11,
   "metadata": {},
   "outputs": [
    {
     "name": "stdout",
     "output_type": "stream",
     "text": [
      "cuda:0\n",
      "Episode 100\tAverage Score: 0.56\n",
      "Episode 200\tAverage Score: 4.62\n",
      "Episode 300\tAverage Score: 9.31\n",
      "Episode 400\tAverage Score: 12.14\n",
      "Episode 500\tAverage Score: 13.90\n",
      "Episode 600\tAverage Score: 15.01\n",
      "Episode 700\tAverage Score: 15.58\n",
      "Episode 800\tAverage Score: 16.56\n",
      "Episode 900\tAverage Score: 16.47\n",
      "Episode 915\tAverage Score: 17.02\n",
      "Environment solved in 815 episodes!\tAverage Score: 17.02\n",
      "Episode 917\tAverage Score: 17.11\n",
      "Environment solved in 817 episodes!\tAverage Score: 17.11\n",
      "Episode 920\tAverage Score: 17.15\n",
      "Environment solved in 820 episodes!\tAverage Score: 17.15\n",
      "Episode 921\tAverage Score: 17.18\n",
      "Environment solved in 821 episodes!\tAverage Score: 17.18\n",
      "Episode 923\tAverage Score: 17.22\n",
      "Environment solved in 823 episodes!\tAverage Score: 17.22\n",
      "Episode 924\tAverage Score: 17.23\n",
      "Environment solved in 824 episodes!\tAverage Score: 17.23\n",
      "Episode 925\tAverage Score: 17.30\n",
      "Environment solved in 825 episodes!\tAverage Score: 17.30\n",
      "Episode 926\tAverage Score: 17.31\n",
      "Environment solved in 826 episodes!\tAverage Score: 17.31\n",
      "Episode 927\tAverage Score: 17.34\n",
      "Environment solved in 827 episodes!\tAverage Score: 17.34\n",
      "Episode 928\tAverage Score: 17.36\n",
      "Environment solved in 828 episodes!\tAverage Score: 17.36\n",
      "Episode 929\tAverage Score: 17.37\n",
      "Environment solved in 829 episodes!\tAverage Score: 17.37\n",
      "Episode 930\tAverage Score: 17.42\n",
      "Environment solved in 830 episodes!\tAverage Score: 17.42\n",
      "Episode 931\tAverage Score: 17.44\n",
      "Environment solved in 831 episodes!\tAverage Score: 17.44\n",
      "Episode 932\tAverage Score: 17.48\n",
      "Environment solved in 832 episodes!\tAverage Score: 17.48\n",
      "Episode 966\tAverage Score: 17.48\n",
      "Environment solved in 866 episodes!\tAverage Score: 17.48\n",
      "Episode 967\tAverage Score: 17.51\n",
      "Environment solved in 867 episodes!\tAverage Score: 17.51\n",
      "Episode 969\tAverage Score: 17.51\n",
      "Environment solved in 869 episodes!\tAverage Score: 17.51\n",
      "Episode 970\tAverage Score: 17.55\n",
      "Environment solved in 870 episodes!\tAverage Score: 17.55\n",
      "Episode 1000\tAverage Score: 16.93\n",
      "Episode 1100\tAverage Score: 15.74\n",
      "Episode 1200\tAverage Score: 16.25\n",
      "Episode 1300\tAverage Score: 15.58\n",
      "Episode 1400\tAverage Score: 16.09\n",
      "Episode 1500\tAverage Score: 16.37\n",
      "Episode 1600\tAverage Score: 15.26\n",
      "Episode 1700\tAverage Score: 16.16\n",
      "Episode 1800\tAverage Score: 15.58\n"
     ]
    }
   ],
   "source": [
    "from collections import deque\n",
    "from agent import Agent\n",
    "\n",
    "agent = Agent(state_size=37, action_size=4, seed=0)\n",
    "\n",
    "def dqn(n_episodes=1800, max_t=1000, eps_start=1.0, eps_end=0.005, eps_decay=0.994):\n",
    "    \"\"\"Deep Q-Learning.\n",
    "    \n",
    "    Params\n",
    "    ======\n",
    "        n_episodes (int): maximum number of training episodes\n",
    "        max_t (int): maximum number of timesteps per episode\n",
    "        eps_start (float): starting value of epsilon, for epsilon-greedy action selection\n",
    "        eps_end (float): minimum value of epsilon\n",
    "        eps_decay (float): multiplicative factor (per episode) for decreasing epsilon\n",
    "    \"\"\"\n",
    "    scores = []                        # list containing scores from each episode\n",
    "    scores_window = deque(maxlen=100)  # last 100 scores\n",
    "    eps = eps_start                    # initialize epsilon\n",
    "    max_mean = 17.0\n",
    "    for i_episode in range(1, n_episodes+1):\n",
    "        env_info = env.reset(train_mode=True)[brain_name]\n",
    "        state = env_info.vector_observations[0]\n",
    "\n",
    "        score = 0\n",
    "        for t in range(max_t):\n",
    "            action = agent.act(state, eps)\n",
    "            \n",
    "            env_info = env.step(action)[brain_name]        \n",
    "            \n",
    "            next_state = env_info.vector_observations[0]   # get the next state\n",
    "            reward = env_info.rewards[0]                   # get the reward\n",
    "            done = env_info.local_done[0] \n",
    "    \n",
    "            agent.step(state, action, reward, next_state, done)\n",
    "            state = next_state\n",
    "            score += reward\n",
    "            if done:\n",
    "                break \n",
    "        scores_window.append(score)       # save most recent score\n",
    "        scores.append(score)              # save most recent score\n",
    "        eps = max(eps_end, eps_decay*eps) # decrease epsilon\n",
    "        print('\\rEpisode {}\\tAverage Score: {:.2f}'.format(i_episode, np.mean(scores_window)), end=\"\")\n",
    "        if i_episode % 100 == 0:\n",
    "            print('\\rEpisode {}\\tAverage Score: {:.2f}'.format(i_episode, np.mean(scores_window)))\n",
    "        \n",
    "        \n",
    "        if np.mean(scores_window)>=max_mean:\n",
    "            max_mean = np.mean(scores_window)\n",
    "            print('\\nEnvironment solved in {:d} episodes!\\tAverage Score: {:.2f}'.format(i_episode-100, np.mean(scores_window)))\n",
    "            \n",
    "            torch.save(agent.qnetwork_local.state_dict(), 'checkpoint_double__dqn.pth')\n",
    "    return scores\n",
    "\n",
    "scores = dqn(1800)\n",
    "\n"
   ]
  },
  {
   "cell_type": "code",
   "execution_count": 5,
   "metadata": {},
   "outputs": [
    {
     "data": {
      "image/png": "[encoded data removed]",
      "text/plain": [
       "<matplotlib.figure.Figure at 0x7f1775cf6ba8>"
      ]
     },
     "metadata": {
      "needs_background": "light"
     },
     "output_type": "display_data"
    }
   ],
   "source": [
    "import matplotlib.pyplot as plt\n",
    "%matplotlib inline\n",
    "\n",
    "# plot the scores\n",
    "fig = plt.figure()\n",
    "ax = fig.add_subplot(111)\n",
    "plt.plot(np.arange(len(scores)), scores)\n",
    "plt.ylabel('Score')\n",
    "plt.xlabel('Episode #')\n",
    "plt.show()"
   ]
  },
  {
   "cell_type": "code",
   "execution_count": null,
   "metadata": {},
   "outputs": [],
   "source": [
    "\n",
    "# Double DQN first run\n",
    "fig = plt.figure()\n",
    "ax = fig.add_subplot(111)\n",
    "plt.plot(np.arange(len(scores)), scores)\n",
    "plt.ylabel('Score')\n",
    "plt.xlabel('Episode #')\n",
    "plt.show()"
   ]
  },
  {
   "cell_type": "code",
   "execution_count": 6,
   "metadata": {},
   "outputs": [
    {
     "data": {
      "image/png": "[encoded data removed]",
      "text/plain": [
       "<matplotlib.figure.Figure at 0x7ffabc063128>"
      ]
     },
     "metadata": {
      "needs_background": "light"
     },
     "output_type": "display_data"
    }
   ],
   "source": [
    "\n",
    "# plotting vanilla DQN scores\n",
    "fig = plt.figure()\n",
    "ax = fig.add_subplot(111)\n",
    "plt.plot(np.arange(len(scores)), scores)\n",
    "plt.ylabel('Score')\n",
    "plt.xlabel('Episode #')\n",
    "plt.show()"
   ]
  },
  {
   "cell_type": "code",
   "execution_count": 5,
   "metadata": {},
   "outputs": [],
   "source": [
    "# On vanilla\n",
    "\n",
    "# Episode 100\tAverage Score: 1.00\n",
    "# Episode 200\tAverage Score: 4.52\n",
    "# Episode 300\tAverage Score: 8.26\n",
    "# Episode 400\tAverage Score: 9.80\n",
    "# Episode 500\tAverage Score: 11.98\n",
    "# Episode 600\tAverage Score: 13.07\n",
    "# Episode 700\tAverage Score: 14.77\n",
    "# Episode 800\tAverage Score: 15.38\n",
    "# Episode 900\tAverage Score: 15.92\n",
    "# Episode 1000\tAverage Score: 16.17\n",
    "# Episode 1100\tAverage Score: 15.47\n",
    "# Episode 1200\tAverage Score: 15.76\n",
    "# Episode 1300\tAverage Score: 15.48\n",
    "# Episode 1400\tAverage Score: 15.99\n",
    "# Episode 1500\tAverage Score: 15.31\n",
    "# Episode 1600\tAverage Score: 15.83\n",
    "# Episode 1700\tAverage Score: 16.09\n",
    "# Episode 1800\tAverage Score: 15.05\n",
    "\n",
    "\n",
    "# Double DQN\n",
    "# Episode 100\tAverage Score: 0.34\n",
    "# Episode 200\tAverage Score: 2.87\n",
    "# Episode 300\tAverage Score: 7.58\n",
    "# Episode 400\tAverage Score: 9.932\n",
    "# Episode 500\tAverage Score: 12.52\n",
    "# Episode 600\tAverage Score: 15.17\n",
    "# Episode 700\tAverage Score: 16.03\n",
    "# Episode 800\tAverage Score: 15.49\n",
    "# Episode 900\tAverage Score: 16.35\n",
    "# Episode 1000\tAverage Score: 15.72\n",
    "# Episode 1100\tAverage Score: 16.10\n",
    "# Episode 1200\tAverage Score: 16.08\n",
    "# Episode 1300\tAverage Score: 16.40\n",
    "# Episode 1400\tAverage Score: 16.78\n",
    "# Episode 1500\tAverage Score: 17.32\n",
    "# Episode 1600\tAverage Score: 16.73\n",
    "# Episode 1700\tAverage Score: 17.13\n",
    "# Episode 1800\tAverage Score: 16.01"
   ]
  },
  {
   "cell_type": "code",
   "execution_count": null,
   "metadata": {},
   "outputs": [],
   "source": []
  }
 ],
 "metadata": {
  "kernelspec": {
   "display_name": "Python 3 (ipykernel)",
   "language": "python",
   "name": "python3"
  },
  "language_info": {
   "codemirror_mode": {
    "name": "ipython",
    "version": 3
   },
   "file_extension": ".py",
   "mimetype": "text/x-python",
   "name": "python",
   "nbconvert_exporter": "python",
   "pygments_lexer": "ipython3",
   "version": "3.8.16"
  }
 },
 "nbformat": 4,
 "nbformat_minor": 2
}
